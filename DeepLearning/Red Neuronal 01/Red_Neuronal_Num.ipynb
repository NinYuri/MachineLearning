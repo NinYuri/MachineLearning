{
 "cells": [
  {
   "cell_type": "code",
   "execution_count": 1,
   "id": "727313d9-8a9a-4d4c-ba48-1d0409cc5536",
   "metadata": {},
   "outputs": [],
   "source": [
    "import tensorflow as tf\n",
    "import tensorflow_datasets as tfds\n",
    "import numpy as np\n",
    "import matplotlib.pyplot as plt"
   ]
  },
  {
   "cell_type": "code",
   "execution_count": 9,
   "id": "a298090a-1ab4-467a-b85e-72bf8a4acc38",
   "metadata": {},
   "outputs": [],
   "source": [
    "# Descargar dataset mnist\n",
    "datos, metadatos = tfds.load('mnist', as_supervised = True, with_info = True)"
   ]
  },
  {
   "cell_type": "code",
   "execution_count": 11,
   "id": "48862ade-0147-4b98-806c-247ab32077e0",
   "metadata": {
    "scrolled": true
   },
   "outputs": [
    {
     "data": {
      "text/plain": [
       "tfds.core.DatasetInfo(\n",
       "    name='mnist',\n",
       "    full_name='mnist/3.0.1',\n",
       "    description=\"\"\"\n",
       "    The MNIST database of handwritten digits.\n",
       "    \"\"\",\n",
       "    homepage='http://yann.lecun.com/exdb/mnist/',\n",
       "    data_dir='C:\\\\Users\\\\Developer\\\\tensorflow_datasets\\\\mnist\\\\3.0.1',\n",
       "    file_format=tfrecord,\n",
       "    download_size=11.06 MiB,\n",
       "    dataset_size=21.00 MiB,\n",
       "    features=FeaturesDict({\n",
       "        'image': Image(shape=(28, 28, 1), dtype=uint8),\n",
       "        'label': ClassLabel(shape=(), dtype=int64, num_classes=10),\n",
       "    }),\n",
       "    supervised_keys=('image', 'label'),\n",
       "    disable_shuffling=False,\n",
       "    nondeterministic_order=False,\n",
       "    splits={\n",
       "        'test': <SplitInfo num_examples=10000, num_shards=1>,\n",
       "        'train': <SplitInfo num_examples=60000, num_shards=1>,\n",
       "    },\n",
       "    citation=\"\"\"@article{lecun2010mnist,\n",
       "      title={MNIST handwritten digit database},\n",
       "      author={LeCun, Yann and Cortes, Corinna and Burges, CJ},\n",
       "      journal={ATT Labs [Online]. Available: http://yann.lecun.com/exdb/mnist},\n",
       "      volume={2},\n",
       "      year={2010}\n",
       "    }\"\"\",\n",
       ")"
      ]
     },
     "execution_count": 11,
     "metadata": {},
     "output_type": "execute_result"
    }
   ],
   "source": [
    "metadatos"
   ]
  },
  {
   "cell_type": "code",
   "execution_count": 161,
   "id": "077b8caf-5deb-4cae-a3b1-d58493e80062",
   "metadata": {},
   "outputs": [],
   "source": [
    "# Separar datos de entrenamiento y de prueba\n",
    "datos_ent = datos['train']\n",
    "datos_pru = datos['test']"
   ]
  },
  {
   "cell_type": "code",
   "execution_count": 163,
   "id": "58645b3c-7b1d-4bba-8892-8d234c8bf81c",
   "metadata": {},
   "outputs": [
    {
     "data": {
      "text/plain": [
       "['0', '1', '2', '3', '4', '5', '6', '7', '8', '9']"
      ]
     },
     "execution_count": 163,
     "metadata": {},
     "output_type": "execute_result"
    }
   ],
   "source": [
    "# Obtener el nombre de las clases\n",
    "nombres = metadatos.features['label'].names\n",
    "nombres"
   ]
  },
  {
   "cell_type": "code",
   "execution_count": 165,
   "id": "a5bc4eb9-6bec-4f24-9601-711b4c9ebc31",
   "metadata": {},
   "outputs": [],
   "source": [
    "# Normalizar las imágenes para que los valores de los pixeles sean entre 0 y 1 en lugar de 0 a 255\n",
    "def normalizar(image, label):\n",
    "    # Convertir de enteros a flotantes\n",
    "    image = tf.cast(image, tf.float32)\n",
    "    # Dividirlas entre 255\n",
    "    image = image / 255\n",
    "    return image, label\n",
    "\n",
    "# Normalizar los datos de entrenamiento y prueba\n",
    "datos_ent = datos_ent.map(normalizar)\n",
    "datos_pru = datos_pru.map(normalizar)\n",
    "\n",
    "# Agregar datos a caché\n",
    "datos_ent = datos_ent.cache()\n",
    "datos_pru = datos_pru.cache()"
   ]
  },
  {
   "cell_type": "code",
   "execution_count": 167,
   "id": "1bad02f9-acb4-4bea-ba74-a1bba933ba39",
   "metadata": {},
   "outputs": [
    {
     "data": {
      "image/png": "[encoded data removed]",
      "text/plain": [
       "<Figure size 200x200 with 2 Axes>"
      ]
     },
     "metadata": {},
     "output_type": "display_data"
    }
   ],
   "source": [
    "# Mostrar una imagen\n",
    "for image, label in datos_ent.take(1):\n",
    "    break\n",
    "# Redimensionar a una matriz de 28 por 28\n",
    "image = image.numpy().reshape((28, 28))\n",
    "\n",
    "plt.figure(figsize = (2,2))\n",
    "plt.imshow(image, cmap = plt.cm.binary)\n",
    "plt.colorbar()\n",
    "plt.grid(False)\n",
    "plt.show()"
   ]
  },
  {
   "cell_type": "code",
   "execution_count": 169,
   "id": "7fa39e4b-face-4643-9cf8-495aa8d19544",
   "metadata": {},
   "outputs": [
    {
     "data": {
      "image/png": "[encoded data removed]",
      "text/plain": [
       "<Figure size 500x500 with 10 Axes>"
      ]
     },
     "metadata": {},
     "output_type": "display_data"
    }
   ],
   "source": [
    "# Mostrar más imágenes\n",
    "plt.figure(figsize = (5,5))\n",
    "plt.subplots_adjust(hspace = 0.8)\n",
    "\n",
    "for i, (image, label) in enumerate(datos_ent.take(10)):\n",
    "    image = image.numpy().reshape((28, 28))\n",
    "    plt.subplot(5, 5, i+1)\n",
    "    plt.xticks([])\n",
    "    plt.yticks([])\n",
    "    plt.grid(False)\n",
    "    plt.imshow(image, cmap = plt.cm.binary)\n",
    "    plt.xlabel(nombres[label])\n",
    "    \n",
    "plt.show()"
   ]
  },
  {
   "cell_type": "code",
   "execution_count": 171,
   "id": "8d034e21-1ee0-4a2e-974f-eeafee259728",
   "metadata": {},
   "outputs": [],
   "source": [
    "# Crear el modelo\n",
    "modelo = tf.keras.Sequential([\n",
    "    # Definir primer capa de entrada Flatten\n",
    "    tf.keras.layers.Flatten(input_shape = (28, 28, 1)),\n",
    "    # Definir la primera capa oculta\n",
    "    tf.keras.layers.Dense(128, activation = tf.nn.relu),\n",
    "    tf.keras.layers.Dense(60, activation = tf.nn.relu),\n",
    "    tf.keras.layers.Dense(60, activation = tf.nn.relu),\n",
    "    tf.keras.layers.Dense(10, activation = tf.nn.softmax)\n",
    "])"
   ]
  },
  {
   "cell_type": "code",
   "execution_count": 173,
   "id": "c6b2cc8f-5289-4d82-8f1b-80d7d6d8427c",
   "metadata": {},
   "outputs": [],
   "source": [
    "# Definir los hiperparámetros\n",
    "epochs = 8\n",
    "learning_rate = 0.001\n",
    "\n",
    "# Definir el tamaño del lote (batch size)\n",
    "batch_size = 32"
   ]
  },
  {
   "cell_type": "code",
   "execution_count": 175,
   "id": "75fd1d4c-2f12-483c-9742-f18d5074309a",
   "metadata": {},
   "outputs": [],
   "source": [
    "# Compilar el modelo\n",
    "modelo.compile(\n",
    "    optimizer = tf.keras.optimizers.Adam(learning_rate),\n",
    "    loss = tf.keras.losses.SparseCategoricalCrossentropy(),\n",
    "    metrics = ['accuracy']\n",
    ")"
   ]
  },
  {
   "cell_type": "code",
   "execution_count": 177,
   "id": "8b639296-d495-4f9f-b534-719c41a86087",
   "metadata": {},
   "outputs": [
    {
     "data": {
      "text/plain": [
       "(60000, 10000)"
      ]
     },
     "execution_count": 177,
     "metadata": {},
     "output_type": "execute_result"
    }
   ],
   "source": [
    "# Obtener el número de imágenes de entrenamiento y de prueba\n",
    "numimg_ent = metadatos.splits['train'].num_examples\n",
    "numimg_pru = metadatos.splits['test'].num_examples\n",
    "numimg_ent, numimg_pru"
   ]
  },
  {
   "cell_type": "code",
   "execution_count": 179,
   "id": "54eba0f1-a966-45c0-b9ae-cb7066e7563e",
   "metadata": {},
   "outputs": [],
   "source": [
    "# Aplicar estrategia para que el entrenamiento sea más eficiente y mejore la tasa de aprendizaje\n",
    "datos_ent = datos_ent.repeat().shuffle(numimg_ent).batch(batch_size)\n",
    "datos_pru = datos_pru.batch(batch_size)"
   ]
  },
  {
   "cell_type": "code",
   "execution_count": 181,
   "id": "45754c14-fc76-44f0-baa6-6cb6a05b6044",
   "metadata": {},
   "outputs": [
    {
     "name": "stdout",
     "output_type": "stream",
     "text": [
      "Epoch 1/8\n",
      "\u001b[1m1875/1875\u001b[0m \u001b[32m━━━━━━━━━━━━━━━━━━━━\u001b[0m\u001b[37m\u001b[0m \u001b[1m9s\u001b[0m 4ms/step - accuracy: 0.8713 - loss: 0.4327\n",
      "Epoch 2/8\n",
      "\u001b[1m1875/1875\u001b[0m \u001b[32m━━━━━━━━━━━━━━━━━━━━\u001b[0m\u001b[37m\u001b[0m \u001b[1m8s\u001b[0m 4ms/step - accuracy: 0.9665 - loss: 0.1072\n",
      "Epoch 3/8\n",
      "\u001b[1m1875/1875\u001b[0m \u001b[32m━━━━━━━━━━━━━━━━━━━━\u001b[0m\u001b[37m\u001b[0m \u001b[1m7s\u001b[0m 4ms/step - accuracy: 0.9737 - loss: 0.0838\n",
      "Epoch 4/8\n",
      "\u001b[1m1875/1875\u001b[0m \u001b[32m━━━━━━━━━━━━━━━━━━━━\u001b[0m\u001b[37m\u001b[0m \u001b[1m7s\u001b[0m 4ms/step - accuracy: 0.9808 - loss: 0.0623\n",
      "Epoch 5/8\n",
      "\u001b[1m1875/1875\u001b[0m \u001b[32m━━━━━━━━━━━━━━━━━━━━\u001b[0m\u001b[37m\u001b[0m \u001b[1m7s\u001b[0m 4ms/step - accuracy: 0.9827 - loss: 0.0544\n",
      "Epoch 6/8\n",
      "\u001b[1m1875/1875\u001b[0m \u001b[32m━━━━━━━━━━━━━━━━━━━━\u001b[0m\u001b[37m\u001b[0m \u001b[1m7s\u001b[0m 4ms/step - accuracy: 0.9868 - loss: 0.0423\n",
      "Epoch 7/8\n",
      "\u001b[1m1875/1875\u001b[0m \u001b[32m━━━━━━━━━━━━━━━━━━━━\u001b[0m\u001b[37m\u001b[0m \u001b[1m7s\u001b[0m 4ms/step - accuracy: 0.9881 - loss: 0.0356\n",
      "Epoch 8/8\n",
      "\u001b[1m1875/1875\u001b[0m \u001b[32m━━━━━━━━━━━━━━━━━━━━\u001b[0m\u001b[37m\u001b[0m \u001b[1m7s\u001b[0m 4ms/step - accuracy: 0.9885 - loss: 0.0337\n"
     ]
    }
   ],
   "source": [
    "# Entrenar el modelo\n",
    "import math\n",
    "\n",
    "steps_per_epoch = math.ceil(numimg_ent/batch_size)\n",
    "historial = modelo.fit(datos_ent, epochs = epochs, steps_per_epoch = steps_per_epoch)"
   ]
  },
  {
   "cell_type": "code",
   "execution_count": 157,
   "id": "4332470e-8ceb-4b65-9c64-2ac37219471c",
   "metadata": {},
   "outputs": [
    {
     "name": "stdout",
     "output_type": "stream",
     "text": [
      "\u001b[1m313/313\u001b[0m \u001b[32m━━━━━━━━━━━━━━━━━━━━\u001b[0m\u001b[37m\u001b[0m \u001b[1m1s\u001b[0m 2ms/step - accuracy: 0.9744 - loss: 0.0976\n",
      "0.10058188438415527 0.9739999771118164\n"
     ]
    }
   ],
   "source": [
    "test_loss, test_accuracy = modelo.evaluate(datos_pru, steps = math.ceil(numimg_pru/32))\n",
    "print(test_loss, test_accuracy)"
   ]
  }
 ],
 "metadata": {
  "kernelspec": {
   "display_name": "Python [conda env:base] *",
   "language": "python",
   "name": "conda-base-py"
  },
  "language_info": {
   "codemirror_mode": {
    "name": "ipython",
    "version": 3
   },
   "file_extension": ".py",
   "mimetype": "text/x-python",
   "name": "python",
   "nbconvert_exporter": "python",
   "pygments_lexer": "ipython3",
   "version": "3.12.7"
  }
 },
 "nbformat": 4,
 "nbformat_minor": 5
}
