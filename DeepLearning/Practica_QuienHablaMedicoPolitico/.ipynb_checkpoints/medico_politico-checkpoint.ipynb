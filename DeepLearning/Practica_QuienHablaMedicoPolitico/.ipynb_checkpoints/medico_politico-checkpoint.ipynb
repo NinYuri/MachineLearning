{
 "cells": [
  {
   "cell_type": "markdown",
   "metadata": {
    "id": "a4CbaB-XnRnw"
   },
   "source": [
    "# <font color='a81d1d'>**Problema de Machine Learning** </font>\n",
    "\n",
    "Dataset de las conferencias de prensa mañaneras del presidente de México, contiene diálogos emitidos por el presidente de México (politico) y el sub-secretario de salud, Hugo López-Gatell (medico).\n",
    "\n",
    "Piensa que tienes cientos de miles de documentos que contienen diálogos transcripciones de entrevistas (llevadas a cabo en persona, por teléfono y por escrito), pero estas no están etiquetadas con los interlocutores, tu tarea es tratar de identificar quiénes son las personas que están interactuando en ellas.\n",
    "\n",
    "**La tarea que tenemos que lograr es identificar a la persona que está hablando a partir de las palabras que dijo.**\n",
    "\n",
    "## **Métrica de elección: Accuracy**\n",
    "\n",
    "Por el momento nos interesa clasificar correctamente ambos diálogos, no nos interesa tanto enfocarnos en una clase u otra. Por el momento vamos a usar simplemente la **exactitud o *accuracy***. Si nuestro problema fuera otra podríamos enfocarnos en otra métrica.\n",
    "<br><br><br>\n"
   ]
  },
  {
   "cell_type": "markdown",
   "metadata": {},
   "source": [
    "## **Crear el Dataset**"
   ]
  },
  {
   "cell_type": "markdown",
   "metadata": {
    "id": "jJP1KwEOziPt"
   },
   "source": [
    "**<font color='a81d1d'>Estructura del Dataset</font>**\n",
    "\n",
    "ID      -->  ID <br>\n",
    "speaker --> Personaje que habla <br>\n",
    "dialog  --> El mensaje <br>\n",
    "length  --> Número de caracteres <br>\n",
    "<br>"
   ]
  },
  {
   "cell_type": "code",
   "execution_count": 81,
   "metadata": {},
   "outputs": [],
   "source": [
    "# Importar la librería\n",
    "import pandas as pd\n",
    "import matplotlib.pyplot as plt\n",
    "import seaborn as sns\n",
    "import numpy as np\n",
    "\n",
    "from sklearn.model_selection import train_test_split"
   ]
  },
  {
   "cell_type": "code",
   "execution_count": 29,
   "metadata": {},
   "outputs": [
    {
     "name": "stdout",
     "output_type": "stream",
     "text": [
      "\u001b[1;31mDataset Conferencias Mañaneras\u001b[0m\n",
      "\n"
     ]
    },
    {
     "data": {
      "text/html": [
       "<div>\n",
       "<style scoped>\n",
       "    .dataframe tbody tr th:only-of-type {\n",
       "        vertical-align: middle;\n",
       "    }\n",
       "\n",
       "    .dataframe tbody tr th {\n",
       "        vertical-align: top;\n",
       "    }\n",
       "\n",
       "    .dataframe thead th {\n",
       "        text-align: right;\n",
       "    }\n",
       "</style>\n",
       "<table border=\"1\" class=\"dataframe\">\n",
       "  <thead>\n",
       "    <tr style=\"text-align: right;\">\n",
       "      <th></th>\n",
       "      <th>speaker</th>\n",
       "      <th>dialog</th>\n",
       "      <th>length</th>\n",
       "    </tr>\n",
       "  </thead>\n",
       "  <tbody>\n",
       "    <tr>\n",
       "      <th>0</th>\n",
       "      <td>amlo</td>\n",
       "      <td>Amigas, amigos, paisanas, paisanos de Palenque:</td>\n",
       "      <td>47</td>\n",
       "    </tr>\n",
       "    <tr>\n",
       "      <th>1</th>\n",
       "      <td>amlo</td>\n",
       "      <td>Me da mucho gusto estar de nuevo en trabajos d...</td>\n",
       "      <td>91</td>\n",
       "    </tr>\n",
       "    <tr>\n",
       "      <th>2</th>\n",
       "      <td>amlo</td>\n",
       "      <td>Antes de entrar en materia, quiero enviar un s...</td>\n",
       "      <td>471</td>\n",
       "    </tr>\n",
       "    <tr>\n",
       "      <th>3</th>\n",
       "      <td>amlo</td>\n",
       "      <td>Di la instrucción de que se mantengan trabajan...</td>\n",
       "      <td>338</td>\n",
       "    </tr>\n",
       "    <tr>\n",
       "      <th>4</th>\n",
       "      <td>amlo</td>\n",
       "      <td>Quiero decirles a mis paisanos que padecen, qu...</td>\n",
       "      <td>113</td>\n",
       "    </tr>\n",
       "    <tr>\n",
       "      <th>...</th>\n",
       "      <td>...</td>\n",
       "      <td>...</td>\n",
       "      <td>...</td>\n",
       "    </tr>\n",
       "    <tr>\n",
       "      <th>155502</th>\n",
       "      <td>amlo</td>\n",
       "      <td>¡Que viva Francisco I. Madero!</td>\n",
       "      <td>30</td>\n",
       "    </tr>\n",
       "    <tr>\n",
       "      <th>155503</th>\n",
       "      <td>amlo</td>\n",
       "      <td>¡Que viva Venustiano Carranza!</td>\n",
       "      <td>30</td>\n",
       "    </tr>\n",
       "    <tr>\n",
       "      <th>155504</th>\n",
       "      <td>amlo</td>\n",
       "      <td>¡Viva México!</td>\n",
       "      <td>13</td>\n",
       "    </tr>\n",
       "    <tr>\n",
       "      <th>155505</th>\n",
       "      <td>amlo</td>\n",
       "      <td>¡Viva México!</td>\n",
       "      <td>13</td>\n",
       "    </tr>\n",
       "    <tr>\n",
       "      <th>155506</th>\n",
       "      <td>amlo</td>\n",
       "      <td>¡Viva México!</td>\n",
       "      <td>13</td>\n",
       "    </tr>\n",
       "  </tbody>\n",
       "</table>\n",
       "<p>155507 rows × 3 columns</p>\n",
       "</div>"
      ],
      "text/plain": [
       "       speaker                                             dialog  length\n",
       "0         amlo    Amigas, amigos, paisanas, paisanos de Palenque:      47\n",
       "1         amlo  Me da mucho gusto estar de nuevo en trabajos d...      91\n",
       "2         amlo  Antes de entrar en materia, quiero enviar un s...     471\n",
       "3         amlo  Di la instrucción de que se mantengan trabajan...     338\n",
       "4         amlo  Quiero decirles a mis paisanos que padecen, qu...     113\n",
       "...        ...                                                ...     ...\n",
       "155502    amlo                     ¡Que viva Francisco I. Madero!      30\n",
       "155503    amlo                     ¡Que viva Venustiano Carranza!      30\n",
       "155504    amlo                                      ¡Viva México!      13\n",
       "155505    amlo                                      ¡Viva México!      13\n",
       "155506    amlo                                      ¡Viva México!      13\n",
       "\n",
       "[155507 rows x 3 columns]"
      ]
     },
     "execution_count": 29,
     "metadata": {},
     "output_type": "execute_result"
    }
   ],
   "source": [
    "print(\"\\033[1;31m\" + \"Dataset Conferencias Mañaneras\" + \"\\033[0m\\n\")\n",
    "df = pd.read_csv('dataset_dialogos.csv', index_col = 0)\n",
    "df"
   ]
  },
  {
   "cell_type": "markdown",
   "metadata": {},
   "source": [
    "## **Vista**"
   ]
  },
  {
   "cell_type": "code",
   "execution_count": 7,
   "metadata": {},
   "outputs": [
    {
     "name": "stdout",
     "output_type": "stream",
     "text": [
      "\u001b[1;31mSpeaker\u001b[0m\n",
      "['amlo' 'lopez-gatell']\n"
     ]
    }
   ],
   "source": [
    "print(\"\\033[1;31m\" + \"Speaker\" + \"\\033[0m\")\n",
    "print(df['speaker'].unique())"
   ]
  },
  {
   "cell_type": "markdown",
   "metadata": {},
   "source": [
    "Valores en **speaker** --> Datos binarios 0 - 1"
   ]
  },
  {
   "cell_type": "code",
   "execution_count": 9,
   "metadata": {},
   "outputs": [
    {
     "name": "stdout",
     "output_type": "stream",
     "text": [
      "\u001b[1;33mDatos duplicados\u001b[0m\n"
     ]
    },
    {
     "data": {
      "text/plain": [
       "8950"
      ]
     },
     "execution_count": 9,
     "metadata": {},
     "output_type": "execute_result"
    }
   ],
   "source": [
    "# Ver datos duplicados\n",
    "print(\"\\033[1;33m\" + \"Datos duplicados\" + \"\\033[0m\")\n",
    "duplicados = len(df[df.duplicated(subset=['dialog'], keep=False)])\n",
    "duplicados"
   ]
  },
  {
   "cell_type": "markdown",
   "metadata": {},
   "source": [
    "## **Diálogos muy Cortos y sin Relevancia**"
   ]
  },
  {
   "cell_type": "code",
   "execution_count": 11,
   "metadata": {},
   "outputs": [
    {
     "data": {
      "text/plain": [
       "speaker    1920\n",
       "dialog     1920\n",
       "length     1920\n",
       "dtype: int64"
      ]
     },
     "execution_count": 11,
     "metadata": {},
     "output_type": "execute_result"
    }
   ],
   "source": [
    "filtro = df['length'] < 10\n",
    "df[filtro].count()"
   ]
  },
  {
   "cell_type": "markdown",
   "metadata": {},
   "source": [
    "## **Índice del dataframe**"
   ]
  },
  {
   "cell_type": "markdown",
   "metadata": {},
   "source": [
    "Se volvió a generar el dataframe indicando index_col = 0"
   ]
  },
  {
   "cell_type": "markdown",
   "metadata": {},
   "source": [
    "## Outlayers"
   ]
  },
  {
   "cell_type": "code",
   "execution_count": 15,
   "metadata": {},
   "outputs": [
    {
     "data": {
      "image/png": "[encoded data removed]",
      "text/plain": [
       "<Figure size 1000x600 with 1 Axes>"
      ]
     },
     "metadata": {},
     "output_type": "display_data"
    }
   ],
   "source": [
    "plt.figure(figsize=(10, 6))\n",
    "sns.boxplot(x=df['length'], color='skyblue')\n",
    "plt.title(\"Boxplot de la longitud del diálogo (length)\\n\", color = '#a81d1d')\n",
    "plt.xlabel(\"Longitud del diálogo (número de letras)\", color = '#CC7722')\n",
    "plt.show()"
   ]
  },
  {
   "cell_type": "markdown",
   "metadata": {},
   "source": [
    "## **Limpieza de Datos**\n",
    "Cambiar las etiquetas de amlo por politico y lopez-gatell por medico"
   ]
  },
  {
   "cell_type": "code",
   "execution_count": 33,
   "metadata": {},
   "outputs": [
    {
     "data": {
      "text/html": [
       "<div>\n",
       "<style scoped>\n",
       "    .dataframe tbody tr th:only-of-type {\n",
       "        vertical-align: middle;\n",
       "    }\n",
       "\n",
       "    .dataframe tbody tr th {\n",
       "        vertical-align: top;\n",
       "    }\n",
       "\n",
       "    .dataframe thead th {\n",
       "        text-align: right;\n",
       "    }\n",
       "</style>\n",
       "<table border=\"1\" class=\"dataframe\">\n",
       "  <thead>\n",
       "    <tr style=\"text-align: right;\">\n",
       "      <th></th>\n",
       "      <th>speaker</th>\n",
       "      <th>dialog</th>\n",
       "      <th>length</th>\n",
       "    </tr>\n",
       "  </thead>\n",
       "  <tbody>\n",
       "    <tr>\n",
       "      <th>20428</th>\n",
       "      <td>politico</td>\n",
       "      <td>Nos ayudó mucho también el que no se nos cayó ...</td>\n",
       "      <td>274</td>\n",
       "    </tr>\n",
       "    <tr>\n",
       "      <th>121079</th>\n",
       "      <td>politico</td>\n",
       "      <td>Y eso de las despensas y la manipulación en lo...</td>\n",
       "      <td>510</td>\n",
       "    </tr>\n",
       "    <tr>\n",
       "      <th>154014</th>\n",
       "      <td>medico</td>\n",
       "      <td>Muchas gracias.</td>\n",
       "      <td>15</td>\n",
       "    </tr>\n",
       "    <tr>\n",
       "      <th>93713</th>\n",
       "      <td>politico</td>\n",
       "      <td>Y también, terminando la presentación de este ...</td>\n",
       "      <td>391</td>\n",
       "    </tr>\n",
       "    <tr>\n",
       "      <th>98553</th>\n",
       "      <td>politico</td>\n",
       "      <td>Entonces, por eso el secretario de Hacienda er...</td>\n",
       "      <td>270</td>\n",
       "    </tr>\n",
       "  </tbody>\n",
       "</table>\n",
       "</div>"
      ],
      "text/plain": [
       "         speaker                                             dialog  length\n",
       "20428   politico  Nos ayudó mucho también el que no se nos cayó ...     274\n",
       "121079  politico  Y eso de las despensas y la manipulación en lo...     510\n",
       "154014    medico                                    Muchas gracias.      15\n",
       "93713   politico  Y también, terminando la presentación de este ...     391\n",
       "98553   politico  Entonces, por eso el secretario de Hacienda er...     270"
      ]
     },
     "execution_count": 33,
     "metadata": {},
     "output_type": "execute_result"
    }
   ],
   "source": [
    "# df['speaker'] = np.where(df['speaker'] == 'amlo', \"politico\", \"medico\")\n",
    "df.sample(5)"
   ]
  },
  {
   "cell_type": "code",
   "execution_count": 43,
   "metadata": {},
   "outputs": [
    {
     "name": "stdout",
     "output_type": "stream",
     "text": [
      "\u001b[1;33mConteo de Valores\u001b[0m\n"
     ]
    },
    {
     "data": {
      "text/plain": [
       "speaker\n",
       "politico    114019\n",
       "medico       41488\n",
       "Name: count, dtype: int64"
      ]
     },
     "execution_count": 43,
     "metadata": {},
     "output_type": "execute_result"
    }
   ],
   "source": [
    "print(\"\\033[1;33m\" + \"Conteo de Valores\" + \"\\033[0m\")\n",
    "df['speaker'].value_counts()"
   ]
  },
  {
   "cell_type": "code",
   "execution_count": 76,
   "metadata": {},
   "outputs": [
    {
     "data": {
      "image/png": "[encoded data removed]",
      "text/plain": [
       "<Figure size 640x480 with 1 Axes>"
      ]
     },
     "metadata": {},
     "output_type": "display_data"
    }
   ],
   "source": [
    "# Frecuencia de mensajes\n",
    "\n",
    "# Obtener los valores y las etiquetas\n",
    "counts = df['speaker'].value_counts()\n",
    "labels = counts.index\n",
    "\n",
    "# Crear el gráfico de pie con porcentajes\n",
    "plt.pie(counts, labels=labels, autopct='%1.1f%%', colors=['skyblue', 'lightgreen'])\n",
    "plt.show()"
   ]
  },
  {
   "cell_type": "markdown",
   "metadata": {},
   "source": [
    "## **Valores nulos**"
   ]
  },
  {
   "cell_type": "code",
   "execution_count": 41,
   "metadata": {},
   "outputs": [
    {
     "data": {
      "text/plain": [
       "speaker    0\n",
       "dialog     0\n",
       "length     0\n",
       "dtype: int64"
      ]
     },
     "execution_count": 41,
     "metadata": {},
     "output_type": "execute_result"
    }
   ],
   "source": [
    "# Verificar valores nulos\n",
    "df.isnull().sum()"
   ]
  },
  {
   "cell_type": "markdown",
   "metadata": {},
   "source": [
    "## **Dividir el Dataset**\n",
    "Datos de entrenamiento 60%, datos de validación 20% y datos de prueba 20%"
   ]
  },
  {
   "cell_type": "code",
   "execution_count": 85,
   "metadata": {},
   "outputs": [
    {
     "name": "stdout",
     "output_type": "stream",
     "text": [
      "\u001b[1;33mEntrenamiento\u001b[0m 99524\n",
      "\u001b[1;33mValidación\u001b[0m 24881\n",
      "\u001b[1;33mPrueba\u001b[0m 31102\n"
     ]
    }
   ],
   "source": [
    "rest, test = train_test_split(df, test_size = 0.2, stratify = df['speaker']) # regresa dataframes --> rest como el 80% del original y test como el 20%\n",
    "train, val = train_test_split(rest, test_size = 0.2, stratify = rest['speaker'])\n",
    "\n",
    "print(\"\\033[1;33m\" + \"Entrenamiento\" + \"\\033[0m\", len(train))\n",
    "print(\"\\033[1;33m\" + \"Validación\" + \"\\033[0m\", len(val))\n",
    "print(\"\\033[1;33m\" + \"Prueba\" + \"\\033[0m\", len(test))"
   ]
  },
  {
   "cell_type": "code",
   "execution_count": null,
   "metadata": {},
   "outputs": [],
   "source": []
  }
 ],
 "metadata": {
  "colab": {
   "provenance": []
  },
  "kernelspec": {
   "display_name": "Python [conda env:base] *",
   "language": "python",
   "name": "conda-base-py"
  },
  "language_info": {
   "codemirror_mode": {
    "name": "ipython",
    "version": 3
   },
   "file_extension": ".py",
   "mimetype": "text/x-python",
   "name": "python",
   "nbconvert_exporter": "python",
   "pygments_lexer": "ipython3",
   "version": "3.12.7"
  }
 },
 "nbformat": 4,
 "nbformat_minor": 4
}
