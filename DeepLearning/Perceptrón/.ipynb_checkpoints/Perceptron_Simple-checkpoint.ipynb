{
 "cells": [
  {
   "cell_type": "code",
   "execution_count": 3,
   "id": "ae8d9b32-c9ab-4e75-a605-6b27907d2165",
   "metadata": {},
   "outputs": [],
   "source": [
    "# Importar librerías\n",
    "import numpy as np\n",
    "import matplotlib.pyplot as plt"
   ]
  },
  {
   "cell_type": "code",
   "execution_count": 5,
   "id": "d814c6ac-53fb-4c0f-86d5-0df09322941d",
   "metadata": {},
   "outputs": [],
   "source": [
    "# Entradas\n",
    "inputs = np.array([\n",
    "    [0, 0],\n",
    "    [0, 1],\n",
    "    [1, 0],\n",
    "    [1, 1]\n",
    "])\n",
    "\n",
    "# Salidas\n",
    "labels = np.array([0, 0, 0, 1])"
   ]
  },
  {
   "cell_type": "code",
   "execution_count": 7,
   "id": "3724461f-987d-4c28-9d0c-19175949447e",
   "metadata": {},
   "outputs": [
    {
     "data": {
      "image/png": "[encoded data removed]",
      "text/plain": [
       "<Figure size 640x480 with 1 Axes>"
      ]
     },
     "metadata": {},
     "output_type": "display_data"
    }
   ],
   "source": [
    "# Graficar los datos para observar si son linealmente separables\n",
    "plt.scatter(inputs[:, 0], inputs[:, 1], c=labels, cmap='cool', marker='o', s=150)\n",
    "plt.title(\"Compuerta Lógica AND\")\n",
    "plt.xlabel(\"X1\")\n",
    "plt.ylabel(\"X2\")\n",
    "plt.grid(True)\n",
    "plt.show()"
   ]
  },
  {
   "cell_type": "code",
   "execution_count": 111,
   "id": "ec792fe6-22de-4e78-85da-4820b3decd7e",
   "metadata": {},
   "outputs": [],
   "source": [
    "# Definición de hiperparámetros\n",
    "learning_rate = 0.05\n",
    "bias = np.random.rand() # 0.122\n",
    "epochs = 10\n",
    "weights = np.random.rand(2) # [0.356, 0.259] No es hiperparámetro"
   ]
  },
  {
   "cell_type": "code",
   "execution_count": 113,
   "id": "5f7d7063-7690-4096-8c65-f7bba8bd8b75",
   "metadata": {},
   "outputs": [],
   "source": [
    "# Clase Perceptrón\n",
    "class Perceptron():\n",
    "    def __init__(self, inputs, labels, learning_rate, weights, bias, epochs=20):\n",
    "        self.inputs = inputs\n",
    "        self.labels = labels\n",
    "        self.learning_rate = learning_rate\n",
    "        self.weights = weights\n",
    "        self.bias = bias\n",
    "        self.epochs = epochs\n",
    "\n",
    "    def activation(self, z):\n",
    "        return 1 if z > 0 else 0\n",
    "\n",
    "    def predict(self, input_x, weights_fit, bias_fit):\n",
    "        # Calcular la función ponderada z\n",
    "        z = np.dot(input_x, weights_fit) + bias_fit\n",
    "        # Calcular y predicha\n",
    "        y_pred = self.activation(z)\n",
    "        return y_pred\n",
    "    \n",
    "    def fit(self):\n",
    "        for epoch in range(self.epochs):\n",
    "            print(f\"Epoch {epoch + 1} / {self.epochs}\", end = \" \")\n",
    "            # Variable para obtener el error por cada epoch\n",
    "            total_error = 0\n",
    "            \n",
    "            # Ciclo para recorrer entradas\n",
    "            for input, label in zip(self.inputs, self.labels):\n",
    "                # print(f\"Input: {input}, Label: {label}\")\n",
    "                # Calcular la función ponderada z\n",
    "                z = np.dot(input, self.weights) + self.bias\n",
    "                # Calcular y predicha\n",
    "                y_pred = self.activation(z)\n",
    "                # Error\n",
    "                error = label - y_pred\n",
    "                total_error += abs(error)\n",
    "                # Actualizar pesos\n",
    "                delta_w = self.learning_rate * error * input\n",
    "                self.weights = self.weights + delta_w\n",
    "                # Actualizar bias\n",
    "                delta_bias = self.learning_rate * error\n",
    "                self.bias = self.bias + delta_bias\n",
    "\n",
    "            # Calcular el error promedio\n",
    "            average_error = total_error / len(self.labels)\n",
    "            print(f\"Average Error: {average_error}\")\n",
    "            \n",
    "        # Retornar pesos y bias actualizados        \n",
    "        return self.weights, self.bias"
   ]
  },
  {
   "cell_type": "code",
   "execution_count": 127,
   "id": "9ec12596-a49e-47e8-aa1f-2545139855ee",
   "metadata": {},
   "outputs": [
    {
     "name": "stdout",
     "output_type": "stream",
     "text": [
      "Epoch 1 / 10 Average Error: 0.75\n",
      "Epoch 2 / 10 Average Error: 0.75\n",
      "Epoch 3 / 10 Average Error: 0.75\n",
      "Epoch 4 / 10 Average Error: 0.75\n",
      "Epoch 5 / 10 Average Error: 0.5\n",
      "Epoch 6 / 10 Average Error: 0.25\n",
      "Epoch 7 / 10 Average Error: 0.25\n",
      "Epoch 8 / 10 Average Error: 0.0\n",
      "Epoch 9 / 10 Average Error: 0.0\n",
      "Epoch 10 / 10 Average Error: 0.0\n",
      "Weights Fit: [0.18455398 0.04283041], Bias Fit: -0.22264578004831032\n"
     ]
    }
   ],
   "source": [
    "# Crear el objeto perceptrón\n",
    "perceptron = Perceptron(inputs, labels, learning_rate, weights, bias, epochs)\n",
    "\n",
    "w, b = perceptron.fit()\n",
    "print(f\"Weights Fit: {w}, Bias Fit: {b}\")"
   ]
  },
  {
   "cell_type": "code",
   "execution_count": 117,
   "id": "a848a4e0-7093-4489-8666-4ba455e01975",
   "metadata": {},
   "outputs": [
    {
     "name": "stdout",
     "output_type": "stream",
     "text": [
      "[0, 0] --> 0\n",
      "[0, 1] --> 0\n",
      "[1, 0] --> 0\n",
      "[1, 1] --> 1\n"
     ]
    }
   ],
   "source": [
    "# Realizar predicciones\n",
    "print(f\"[0, 0] --> {perceptron.predict([0,0], w, b)}\")\n",
    "print(f\"[0, 1] --> {perceptron.predict([0,1], w, b)}\")\n",
    "print(f\"[1, 0] --> {perceptron.predict([1,0], w, b)}\")\n",
    "print(f\"[1, 1] --> {perceptron.predict([1,1], w, b)}\")"
   ]
  }
 ],
 "metadata": {
  "kernelspec": {
   "display_name": "Python [conda env:base] *",
   "language": "python",
   "name": "conda-base-py"
  },
  "language_info": {
   "codemirror_mode": {
    "name": "ipython",
    "version": 3
   },
   "file_extension": ".py",
   "mimetype": "text/x-python",
   "name": "python",
   "nbconvert_exporter": "python",
   "pygments_lexer": "ipython3",
   "version": "3.12.7"
  }
 },
 "nbformat": 4,
 "nbformat_minor": 5
}
