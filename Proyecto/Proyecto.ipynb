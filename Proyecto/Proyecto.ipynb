{
 "cells": [
  {
   "cell_type": "markdown",
   "id": "41063dee-fb77-425d-9666-d52b1f634948",
   "metadata": {},
   "source": [
    "# <font color='#7e5109'>**PROYECTO CULTIVARIA**</font>"
   ]
  },
  {
   "cell_type": "markdown",
   "id": "040d2a0c-189e-4c56-9204-64e3f50150e1",
   "metadata": {},
   "source": [
    "## <font color='118765'>**1. ¿Qué problema se quiere resolver?**</font>\n",
    "\n",
    "El problema que se quiere resolver es la optimización de la planificación agrícola para maximizar la producción de cultivos. Esto incluye la selección del cultivo más adecuado para una parcela específica, basándose en variables como el clima, las condiciones del suelo, la localización y otros factores relevantes. <br><br>\n",
    "En el enfoque de **Machine Learning**, se puede desarrollar un modelo predictivo que, basado en los datos recopilados (clima, suelo, localización, etc.), recomiende el cultivo más adecuado, la cantidad de fertilizante necesaria o el momento óptimo para la siembra y la cosecha. Este modelos permitirían optimizar los recursos y mejorar la eficiencia en la agricultura, contribuyendo a una mayor productividad y sostenibilidad."
   ]
  },
  {
   "cell_type": "markdown",
   "id": "ffd618e9-8ab3-4b55-966d-0c6ee4520fed",
   "metadata": {
    "jp-MarkdownHeadingCollapsed": true
   },
   "source": [
    "<br>"
   ]
  },
  {
   "cell_type": "markdown",
   "id": "f2d18c4c-8cfb-477b-8f34-0b05e899cea1",
   "metadata": {},
   "source": [
    "## <font color='118765'>**2. ¿Tienes datos suficientes y de calidad?**</font>\n",
    "\n",
    "<font color='#7e5109'>**Datos necesarios:**</font>\n",
    "\n",
    "* <font color='#a38409'>**ID_Parcela (numérico):**</font> Identificador único de la parcela agrícola.\n",
    "* <font color='#a38409'>**Coordenadas (array de dos valores numéricos):**</font> Latitud y longitud de la parcela.\n",
    "* <font color='#a38409'>**Temperatura (numérico):**</font> Temperatura promedio en grados Celsius.\n",
    "* <font color='#a38409'>**Humedad_Relativa (numérico):**</font> Humedad relativa en porcentaje.\n",
    "* <font color='#a38409'>**Precipitacion (numérico):**</font> Precipitación en milímetros.\n",
    "* <font color='#a38409'>**pH_Suelo (numérico):**</font> pH del suelo (escala de 0 a 14).\n",
    "* <font color='#a38409'>**Nutriente_N (numérico):**</font> Concentración de nitrógeno en el suelo (mg/kg).\n",
    "* <font color='#a38409'>**Nutriente_P (numérico):**</font> Concentración de fósforo en el suelo (mg/kg).\n",
    "* <font color='#a38409'>**Nutriente_K (numérico):**</font> Concentración de potasio en el suelo (mg/kg).\n",
    "* <font color='#a38409'>**Nombre_Cultivo (texto):**</font> Nombre del cultivo recomendado (por ejemplo, maíz, trigo, soja). <br><br>\n",
    "\n",
    "<font color='#7e5109'>**¿Son de calidad?**</font><br>\n",
    "Para determinar si los datos son suficientes y de calidad, es fundamental acceder a fuentes confiables y completas que cubran las variables clave del proyecto, como clima, suelo, localización y cultivos. Para este caso, puedo utilizar datasets de organizaciones reconocidas como **NOAA** (https://www.ncdc.noaa.gov/) para datos climáticos históricos y en tiempo real, **FAO** (https://www.fao.org/faostat/en/) para información agrícola y de suelos, y **SoilGrids** (https://www.soilgrids.org/) para mapas globales de propiedades del suelo. Además, plataformas como **Kaggle** (https://www.kaggle.com/datasets) ofrecen datasets específicos, como el *\"Crop Recommendation Dataset\"*, que incluye variables como temperatura, humedad, pH y nutrientes del suelo, lo cual es ideal para entrenar modelos de recomendación de cultivos."
   ]
  },
  {
   "cell_type": "markdown",
   "id": "24a802e9-976f-444d-a2b2-a7ea9908cd8e",
   "metadata": {},
   "source": [
    "<br>"
   ]
  },
  {
   "cell_type": "markdown",
   "id": "efc7b47e-3f36-47c1-bb72-cf934f8ce3a7",
   "metadata": {},
   "source": [
    "## <font color='118765'>**3. ¿Qué métrica indicará el éxito del modelo?**</font>\n",
    "\n",
    "Para evaluar su éxito se utilizará la métrica **F1-Score**, la cual combina dos aspectos clave del rendimiento de un modelo de clasificación: la *precisión* y el *recall* (sensibilidad o exhaustividad). Es especialmente útil cuando hay un desbalance entre las clases (frecuencia de unos cuantos cultivos), ya que no solo mide cuántas predicciones son correctas, sino también cuántos casos relevantes fueron identificados correctamente.<br>\n",
    "Un F1-Score de 0.782 (78.2%) indica que el modelo tiene un buen equilibrio entre precisión y recall, pero aún hay margen de mejora.<br><br>\n",
    "\n",
    "<font color='#7e5109'>**Componentes del F1-Score**</font><br>\n",
    "\n",
    "1. <font color='#a38409'>**Precisión (Precision):**</font> Mide la proporción de predicciones positivas que fueron correctas. Es decir, de todos los cultivos que el modelo recomendó, ¿cuántos eran realmente viables? <br><br>\n",
    "            **Presición =** Verdaderos Positivos (*VP*) / (VP + Falsos Positivos (*FP*)) <br>\n",
    "\n",
    "2. <font color='#a38409'>**Recall (Sensibilidad o Exhaustividad):**</font> Mide la proporción de casos positivos reales que el modelo identificó correctamente. Es decir, de todos los cultivos viables, ¿cuántos recomendó el modelo? <br><br>\n",
    "            **Recall =** Verdaderos Positivos (*VP*) / (VP + Falsos Negativos (*FN*)) <br>\n",
    "\n",
    "3. <font color='#a38409'>**F1-Score:**</font> Es la media armónica entre la precisión y el recall. La media armónica es útil porque penaliza los valores extremos, lo que hace que el F1-Score sea una métrica equilibrada.<br><br>\n",
    "            **F1-Score =** 2 × ((Presición × Recall) / (Presición + Recall)) <br><br>\n",
    "\n",
    "<font color='#7e5109'>**Ejemplo**</font><br>"
   ]
  },
  {
   "cell_type": "code",
   "execution_count": null,
   "id": "8191c64b-e12d-49ac-bdc8-e56582ed04cc",
   "metadata": {},
   "outputs": [],
   "source": [
    "from sklearn.metrics import f1_score\n",
    "\n",
    "# Valores reales y predicciones del modelo\n",
    "y_true = [\"maíz\", \"trigo\", \"soja\", \"maíz\", \"trigo\"]\n",
    "y_pred = [\"maíz\", \"trigo\", \"maíz\", \"maíz\", \"trigo\"]\n",
    "\n",
    "# Calcular F1-Score (promedio ponderado para múltiples clases)\n",
    "f1 = f1_score(y_true, y_pred, average=\"weighted\")\n",
    "print(f\"F1-Score: {f1 * 100:.2f}%\")"
   ]
  }
 ],
 "metadata": {
  "kernelspec": {
   "display_name": "Python [conda env:base] *",
   "language": "python",
   "name": "conda-base-py"
  },
  "language_info": {
   "codemirror_mode": {
    "name": "ipython",
    "version": 3
   },
   "file_extension": ".py",
   "mimetype": "text/x-python",
   "name": "python",
   "nbconvert_exporter": "python",
   "pygments_lexer": "ipython3",
   "version": "3.12.7"
  }
 },
 "nbformat": 4,
 "nbformat_minor": 5
}
