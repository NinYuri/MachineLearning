{
 "cells": [
  {
   "cell_type": "code",
   "execution_count": null,
   "id": "fe9b1df6-c659-42f9-bbd8-ded44cb27259",
   "metadata": {},
   "outputs": [],
   "source": []
  },
  {
   "cell_type": "markdown",
   "id": "040d2a0c-189e-4c56-9204-64e3f50150e1",
   "metadata": {},
   "source": [
    "## **1. ¿Qué problema se quiere resolver?**\n",
    "\n",
    "El problema que se quiere resolver es la optimización de la planificación agrícola para maximizar la producción de cultivos. Esto incluye la selección del cultivo más adecuado para una parcela específica, basándose en variables como el clima, las condiciones del suelo, la localización y otros factores relevantes. Además, se busca automatizar la toma de decisiones relacionadas con la preparación del sustrato, el tratamiento de cultivos y el uso de fertilizantes. \n",
    "\n",
    "En el enfoque de **Machine Learning**, se pueden desarrollar modelos predictivos que, basados en los datos recopilados (clima, suelo, localización, etc.), recomienden el cultivo más adecuado, la cantidad de fertilizante necesaria o el momento óptimo para la siembra y la cosecha. Estos modelos permitirían optimizar los recursos y mejorar la eficiencia en la agricultura, contribuyendo a una mayor productividad y sostenibilidad."
   ]
  },
  {
   "cell_type": "code",
   "execution_count": null,
   "id": "4f4a890d-c464-46da-b952-eb4ef41508cc",
   "metadata": {},
   "outputs": [],
   "source": []
  }
 ],
 "metadata": {
  "kernelspec": {
   "display_name": "Python [conda env:base] *",
   "language": "python",
   "name": "conda-base-py"
  },
  "language_info": {
   "codemirror_mode": {
    "name": "ipython",
    "version": 3
   },
   "file_extension": ".py",
   "mimetype": "text/x-python",
   "name": "python",
   "nbconvert_exporter": "python",
   "pygments_lexer": "ipython3",
   "version": "3.12.7"
  }
 },
 "nbformat": 4,
 "nbformat_minor": 5
}
